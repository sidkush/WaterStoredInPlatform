{
 "cells": [
  {
   "cell_type": "code",
   "execution_count": 2,
   "metadata": {},
   "outputs": [],
   "source": [
    "from pyforest import *"
   ]
  },
  {
   "cell_type": "code",
   "execution_count": 5,
   "metadata": {},
   "outputs": [
    {
     "name": "stdout",
     "output_type": "stream",
     "text": [
      "Enter the number of rows:4\n",
      "Enter the number of columns:6\n",
      "Enter the elements:3\n",
      "Enter the elements:3\n",
      "Enter the elements:3\n",
      "Enter the elements:3\n",
      "Enter the elements:3\n",
      "Enter the elements:3\n",
      "Enter the elements:3\n",
      "Enter the elements:1\n",
      "Enter the elements:2\n",
      "Enter the elements:3\n",
      "Enter the elements:1\n",
      "Enter the elements:3\n",
      "Enter the elements:3\n",
      "Enter the elements:1\n",
      "Enter the elements:2\n",
      "Enter the elements:3\n",
      "Enter the elements:1\n",
      "Enter the elements:3\n",
      "Enter the elements:3\n",
      "Enter the elements:3\n",
      "Enter the elements:3\n",
      "Enter the elements:1\n",
      "Enter the elements:3\n",
      "Enter the elements:3\n"
     ]
    }
   ],
   "source": [
    "lst = []\n",
    "r = int(input('Enter the number of rows:'))\n",
    "c = int(input('Enter the number of columns:'))\n",
    "for i in range(r*c):\n",
    "    lst.append(int(input('Enter the elements:')))\n",
    "platform = np.array(lst).reshape(r,c)"
   ]
  },
  {
   "cell_type": "code",
   "execution_count": 9,
   "metadata": {},
   "outputs": [
    {
     "name": "stdout",
     "output_type": "stream",
     "text": [
      "level 0\n",
      "[[0. 0. 0. 0. 0. 0.]\n",
      " [0. 0. 0. 0. 0. 0.]\n",
      " [0. 0. 0. 0. 0. 0.]\n",
      " [0. 0. 0. 0. 0. 0.]]\n",
      "level 1\n",
      "[[0. 0. 0. 0. 0. 0.]\n",
      " [0. 1. 0. 0. 1. 0.]\n",
      " [0. 1. 0. 0. 1. 0.]\n",
      " [0. 0. 0. 0. 0. 0.]]\n",
      "level 2\n",
      "[[0. 0. 0. 0. 0. 0.]\n",
      " [0. 1. 1. 0. 1. 0.]\n",
      " [0. 1. 1. 0. 1. 0.]\n",
      " [0. 0. 0. 0. 0. 0.]]\n",
      "level 3\n",
      "[[0. 0. 0. 0. 0. 0.]\n",
      " [0. 0. 0. 0. 0. 0.]\n",
      " [0. 0. 0. 0. 0. 0.]\n",
      " [0. 0. 0. 0. 0. 0.]]\n",
      "\n",
      "Total water blocks =  10.0\n"
     ]
    }
   ],
   "source": [
    "\n",
    "def WaterStoredInPlatform(platform):\n",
    "\n",
    "    z = np.max(platform)\n",
    "\n",
    "    water = np.ones((z+1,r,c))\n",
    "\n",
    "    for level in range(0,z):\n",
    "        water[level] = np.where(platform-level <= 0, 1, 0)\n",
    "\n",
    "    water[0] *= 2  \n",
    "\n",
    "\n",
    "    for level in range(0,z+1):\n",
    "\n",
    "\n",
    "        zero = np.argwhere(water[level] == 1)\n",
    "\n",
    "        for i,j in zero:\n",
    "            if j == 0 or i == 0 or i == r-1 or j == c-1:\n",
    "                water[level,i,j] = 2\n",
    "\n",
    "        count = np.count_nonzero(water[level] == 2)\n",
    "        oldcount = 0\n",
    "\n",
    "        spill = np.argwhere(water[level] == 2)\n",
    "\n",
    "        while oldcount != count:\n",
    "\n",
    "            oldcount = count\n",
    "\n",
    "            for i,j in spill:\n",
    "                if j-1 >= 0:\n",
    "                    if water[level,i,j-1] == 1:\n",
    "                        water[level,i,j-1] = 2\n",
    "                if j+1 < c:\n",
    "                    if water[level,i,j+1] == 1:\n",
    "                        water[level,i,j+1] = 2\n",
    "                if i+1 < r:\n",
    "                    if water[level,i+1,j] == 1:\n",
    "                        water[level,i+1,j] = 2\n",
    "                if i-1 >= 0:\n",
    "                    if water[level,i-1,j] == 1:\n",
    "                        water[level,i-1,j] = 2\n",
    "                if level+1 <= z:\n",
    "                    if water[level+1,i,j] == 1:\n",
    "                        water[level+1,i,j] = 2\n",
    "\n",
    "            spill = np.argwhere(water[level] == 2)\n",
    "            count = np.count_nonzero(water[level] == 2)\n",
    "\n",
    "        water[level] = np.where(water[level] == 1, 1, 0)\n",
    "        print(f\"level {level}\\n{water[level]}\")\n",
    "\n",
    "\n",
    "    totalcubes = np.sum(water)\n",
    "    print('\\nTotal water blocks = ',totalcubes)\n",
    "\n",
    "WaterStoredInPlatform(platform)\n"
   ]
  },
  {
   "cell_type": "code",
   "execution_count": 19,
   "metadata": {},
   "outputs": [
    {
     "data": {
      "text/plain": [
       "array([[[0., 0., 0., 0., 0., 0.],\n",
       "        [0., 0., 0., 0., 0., 0.],\n",
       "        [0., 0., 0., 0., 0., 0.],\n",
       "        [0., 0., 0., 0., 0., 0.]],\n",
       "\n",
       "       [[0., 0., 0., 0., 0., 0.],\n",
       "        [0., 1., 0., 0., 1., 0.],\n",
       "        [0., 1., 0., 0., 1., 0.],\n",
       "        [0., 0., 0., 1., 0., 0.]],\n",
       "\n",
       "       [[0., 0., 0., 0., 0., 0.],\n",
       "        [0., 1., 1., 0., 1., 0.],\n",
       "        [0., 1., 1., 0., 1., 0.],\n",
       "        [0., 0., 0., 1., 0., 0.]],\n",
       "\n",
       "       [[1., 1., 1., 1., 1., 1.],\n",
       "        [1., 1., 1., 1., 1., 1.],\n",
       "        [1., 1., 1., 1., 1., 1.],\n",
       "        [1., 1., 1., 1., 1., 1.]]])"
      ]
     },
     "execution_count": 19,
     "metadata": {},
     "output_type": "execute_result"
    }
   ],
   "source": [
    "z = np.max(platform)\n",
    "water = np.ones((z+1,r,c))\n",
    "for level in range(0,z):\n",
    "        water[level] = np.where(platform-level <= 0, 1, 0)\n",
    "water"
   ]
  },
  {
   "cell_type": "code",
   "execution_count": 21,
   "metadata": {},
   "outputs": [
    {
     "data": {
      "text/plain": [
       "array([[3, 3, 3, 3, 3, 3],\n",
       "       [3, 1, 2, 3, 1, 3],\n",
       "       [3, 1, 2, 3, 1, 3],\n",
       "       [3, 3, 3, 1, 3, 3]])"
      ]
     },
     "execution_count": 21,
     "metadata": {},
     "output_type": "execute_result"
    }
   ],
   "source": [
    "platform"
   ]
  },
  {
   "cell_type": "code",
   "execution_count": 22,
   "metadata": {},
   "outputs": [],
   "source": [
    "water[0] *= 2"
   ]
  },
  {
   "cell_type": "code",
   "execution_count": 23,
   "metadata": {},
   "outputs": [
    {
     "data": {
      "text/plain": [
       "array([[[0., 0., 0., 0., 0., 0.],\n",
       "        [0., 0., 0., 0., 0., 0.],\n",
       "        [0., 0., 0., 0., 0., 0.],\n",
       "        [0., 0., 0., 0., 0., 0.]],\n",
       "\n",
       "       [[0., 0., 0., 0., 0., 0.],\n",
       "        [0., 1., 0., 0., 1., 0.],\n",
       "        [0., 1., 0., 0., 1., 0.],\n",
       "        [0., 0., 0., 1., 0., 0.]],\n",
       "\n",
       "       [[0., 0., 0., 0., 0., 0.],\n",
       "        [0., 1., 1., 0., 1., 0.],\n",
       "        [0., 1., 1., 0., 1., 0.],\n",
       "        [0., 0., 0., 1., 0., 0.]],\n",
       "\n",
       "       [[1., 1., 1., 1., 1., 1.],\n",
       "        [1., 1., 1., 1., 1., 1.],\n",
       "        [1., 1., 1., 1., 1., 1.],\n",
       "        [1., 1., 1., 1., 1., 1.]]])"
      ]
     },
     "execution_count": 23,
     "metadata": {},
     "output_type": "execute_result"
    }
   ],
   "source": [
    "water"
   ]
  },
  {
   "cell_type": "code",
   "execution_count": 24,
   "metadata": {},
   "outputs": [],
   "source": [
    "for level in range(0,z+1):\n",
    "    zero = np.argwhere(water[level] == 1)"
   ]
  },
  {
   "cell_type": "code",
   "execution_count": 25,
   "metadata": {},
   "outputs": [
    {
     "data": {
      "text/plain": [
       "array([[0, 0],\n",
       "       [0, 1],\n",
       "       [0, 2],\n",
       "       [0, 3],\n",
       "       [0, 4],\n",
       "       [0, 5],\n",
       "       [1, 0],\n",
       "       [1, 1],\n",
       "       [1, 2],\n",
       "       [1, 3],\n",
       "       [1, 4],\n",
       "       [1, 5],\n",
       "       [2, 0],\n",
       "       [2, 1],\n",
       "       [2, 2],\n",
       "       [2, 3],\n",
       "       [2, 4],\n",
       "       [2, 5],\n",
       "       [3, 0],\n",
       "       [3, 1],\n",
       "       [3, 2],\n",
       "       [3, 3],\n",
       "       [3, 4],\n",
       "       [3, 5]])"
      ]
     },
     "execution_count": 25,
     "metadata": {},
     "output_type": "execute_result"
    }
   ],
   "source": [
    "zero"
   ]
  },
  {
   "cell_type": "code",
   "execution_count": null,
   "metadata": {},
   "outputs": [],
   "source": []
  }
 ],
 "metadata": {
  "kernelspec": {
   "display_name": "Python 3",
   "language": "python",
   "name": "python3"
  },
  "language_info": {
   "codemirror_mode": {
    "name": "ipython",
    "version": 3
   },
   "file_extension": ".py",
   "mimetype": "text/x-python",
   "name": "python",
   "nbconvert_exporter": "python",
   "pygments_lexer": "ipython3",
   "version": "3.7.3"
  }
 },
 "nbformat": 4,
 "nbformat_minor": 2
}
